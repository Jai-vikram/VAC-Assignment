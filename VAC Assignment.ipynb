{
 "cells": [
  {
   "cell_type": "code",
   "execution_count": 21,
   "id": "2eeac2b0",
   "metadata": {},
   "outputs": [
    {
     "name": "stdout",
     "output_type": "stream",
     "text": [
      "Requirement already satisfied: bs4 in c:\\users\\asus\\anaconda3\\envs\\jaivikram\\lib\\site-packages (0.0.1)\n",
      "Requirement already satisfied: beautifulsoup4 in c:\\users\\asus\\anaconda3\\envs\\jaivikram\\lib\\site-packages (from bs4) (4.11.1)\n",
      "Requirement already satisfied: soupsieve>1.2 in c:\\users\\asus\\anaconda3\\envs\\jaivikram\\lib\\site-packages (from beautifulsoup4->bs4) (2.3.2.post1)\n",
      "Note: you may need to restart the kernel to use updated packages.\n"
     ]
    }
   ],
   "source": [
    "pip install bs4"
   ]
  },
  {
   "cell_type": "code",
   "execution_count": 22,
   "id": "5e1ed15a",
   "metadata": {},
   "outputs": [
    {
     "name": "stdout",
     "output_type": "stream",
     "text": [
      "Requirement already satisfied: requests in c:\\users\\asus\\anaconda3\\envs\\jaivikram\\lib\\site-packages (2.27.1)\n",
      "Requirement already satisfied: idna<4,>=2.5 in c:\\users\\asus\\anaconda3\\envs\\jaivikram\\lib\\site-packages (from requests) (3.3)\n",
      "Requirement already satisfied: charset-normalizer~=2.0.0 in c:\\users\\asus\\anaconda3\\envs\\jaivikram\\lib\\site-packages (from requests) (2.0.12)\n",
      "Requirement already satisfied: certifi>=2017.4.17 in c:\\users\\asus\\anaconda3\\envs\\jaivikram\\lib\\site-packages (from requests) (2021.10.8)\n",
      "Requirement already satisfied: urllib3<1.27,>=1.21.1 in c:\\users\\asus\\anaconda3\\envs\\jaivikram\\lib\\site-packages (from requests) (1.26.9)\n",
      "Note: you may need to restart the kernel to use updated packages.\n"
     ]
    }
   ],
   "source": [
    "pip install requests"
   ]
  },
  {
   "cell_type": "code",
   "execution_count": 23,
   "id": "8464966d",
   "metadata": {},
   "outputs": [],
   "source": [
    "from bs4 import BeautifulSoup"
   ]
  },
  {
   "cell_type": "code",
   "execution_count": 24,
   "id": "bf0b4688",
   "metadata": {},
   "outputs": [],
   "source": [
    "import requests"
   ]
  },
  {
   "cell_type": "code",
   "execution_count": 25,
   "id": "d61e02ea",
   "metadata": {},
   "outputs": [],
   "source": [
    "url = \"https://in.ign.com/dota-2/134506/feature/the-25-best-pc-games-to-play-right-now\""
   ]
  },
  {
   "cell_type": "code",
   "execution_count": 26,
   "id": "7ef72c18",
   "metadata": {},
   "outputs": [],
   "source": [
    "allow = requests.get(url)"
   ]
  },
  {
   "cell_type": "code",
   "execution_count": 27,
   "id": "cee80787",
   "metadata": {},
   "outputs": [
    {
     "name": "stdout",
     "output_type": "stream",
     "text": [
      "<Response [200]>\n"
     ]
    }
   ],
   "source": [
    "print (allow)"
   ]
  },
  {
   "cell_type": "code",
   "execution_count": 28,
   "id": "853cb556",
   "metadata": {},
   "outputs": [],
   "source": [
    "soup = BeautifulSoup(allow.text)"
   ]
  },
  {
   "cell_type": "code",
   "execution_count": 29,
   "id": "57edf743",
   "metadata": {},
   "outputs": [],
   "source": [
    "game_ratings = soup.select(\"h2\")"
   ]
  },
  {
   "cell_type": "code",
   "execution_count": 30,
   "id": "1bb72ae8",
   "metadata": {},
   "outputs": [
    {
     "data": {
      "text/plain": [
       "[<h2>25. Counter-Strike: Global Offensive</h2>,\n",
       " <h2>24. Slay The Spire</h2>,\n",
       " <h2>23. Return of the Obra Dinn</h2>,\n",
       " <h2>22. Undertale</h2>,\n",
       " <h2>21. FTL: Faster Than Light</h2>,\n",
       " <h2>20. Hollow Knight</h2>,\n",
       " <h2>19. Stardew Valley</h2>,\n",
       " <h2>18. Assassin’s Creed Odyssey</h2>,\n",
       " <h2>17. Sid Meier's Civilization VI</h2>,\n",
       " <h2>16. Overwatch</h2>,\n",
       " <h2>15. XCOM 2</h2>,\n",
       " <h2>14. Resident Evil 2</h2>,\n",
       " <h2>13. Celeste</h2>,\n",
       " <h2>12. Fortnite Battle Royale</h2>,\n",
       " <h2>11. League of Legends</h2>,\n",
       " <h2>10. Dota 2</h2>,\n",
       " <h2>9. Warframe</h2>,\n",
       " <h2>8. Dead Cells</h2>,\n",
       " <h2>7. Monster Hunter: World</h2>,\n",
       " <h2>6. Apex Legends</h2>,\n",
       " <h2>5. Divinity: Original Sin 2 - Definitive Edition</h2>,\n",
       " <h2>4. Minecraft</h2>,\n",
       " <h2>3. Grand Theft Auto V</h2>,\n",
       " <h2>2. The Witcher 3: Wild Hunt</h2>,\n",
       " <h2>1. Portal 2</h2>,\n",
       " <h2 class=\"object-title\"><a class=\"evidence opt-internal\" href=\"https://in.ign.com/dota-2\" title=\"Dota 2\">Dota 2</a></h2>]"
      ]
     },
     "execution_count": 30,
     "metadata": {},
     "output_type": "execute_result"
    }
   ],
   "source": [
    "game_ratings"
   ]
  },
  {
   "cell_type": "code",
   "execution_count": 31,
   "id": "9da20e36",
   "metadata": {},
   "outputs": [],
   "source": [
    "import pandas as pd"
   ]
  },
  {
   "cell_type": "code",
   "execution_count": 32,
   "id": "393a96e7",
   "metadata": {},
   "outputs": [
    {
     "name": "stderr",
     "output_type": "stream",
     "text": [
      "C:\\Users\\ASUS\\anaconda3\\envs\\Jaivikram\\lib\\site-packages\\pandas\\core\\internals\\construction.py:576: VisibleDeprecationWarning: Creating an ndarray from ragged nested sequences (which is a list-or-tuple of lists-or-tuples-or ndarrays with different lengths or shapes) is deprecated. If you meant to do this, you must specify 'dtype=object' when creating the ndarray.\n",
      "  values = np.array([convert(v) for v in values])\n"
     ]
    }
   ],
   "source": [
    "games = pd.DataFrame(game_ratings,columns=['Games'])\n",
    "    "
   ]
  },
  {
   "cell_type": "code",
   "execution_count": 33,
   "id": "0eea2e60",
   "metadata": {},
   "outputs": [
    {
     "data": {
      "text/html": [
       "<div>\n",
       "<style scoped>\n",
       "    .dataframe tbody tr th:only-of-type {\n",
       "        vertical-align: middle;\n",
       "    }\n",
       "\n",
       "    .dataframe tbody tr th {\n",
       "        vertical-align: top;\n",
       "    }\n",
       "\n",
       "    .dataframe thead th {\n",
       "        text-align: right;\n",
       "    }\n",
       "</style>\n",
       "<table border=\"1\" class=\"dataframe\">\n",
       "  <thead>\n",
       "    <tr style=\"text-align: right;\">\n",
       "      <th></th>\n",
       "      <th>Games</th>\n",
       "    </tr>\n",
       "  </thead>\n",
       "  <tbody>\n",
       "    <tr>\n",
       "      <th>0</th>\n",
       "      <td>25. Counter-Strike: Global Offensive</td>\n",
       "    </tr>\n",
       "    <tr>\n",
       "      <th>1</th>\n",
       "      <td>24. Slay The Spire</td>\n",
       "    </tr>\n",
       "    <tr>\n",
       "      <th>2</th>\n",
       "      <td>23. Return of the Obra Dinn</td>\n",
       "    </tr>\n",
       "    <tr>\n",
       "      <th>3</th>\n",
       "      <td>22. Undertale</td>\n",
       "    </tr>\n",
       "    <tr>\n",
       "      <th>4</th>\n",
       "      <td>21. FTL: Faster Than Light</td>\n",
       "    </tr>\n",
       "    <tr>\n",
       "      <th>5</th>\n",
       "      <td>20. Hollow Knight</td>\n",
       "    </tr>\n",
       "    <tr>\n",
       "      <th>6</th>\n",
       "      <td>19. Stardew Valley</td>\n",
       "    </tr>\n",
       "    <tr>\n",
       "      <th>7</th>\n",
       "      <td>18. Assassin’s Creed Odyssey</td>\n",
       "    </tr>\n",
       "    <tr>\n",
       "      <th>8</th>\n",
       "      <td>17. Sid Meier's Civilization VI</td>\n",
       "    </tr>\n",
       "    <tr>\n",
       "      <th>9</th>\n",
       "      <td>16. Overwatch</td>\n",
       "    </tr>\n",
       "    <tr>\n",
       "      <th>10</th>\n",
       "      <td>15. XCOM 2</td>\n",
       "    </tr>\n",
       "    <tr>\n",
       "      <th>11</th>\n",
       "      <td>14. Resident Evil 2</td>\n",
       "    </tr>\n",
       "    <tr>\n",
       "      <th>12</th>\n",
       "      <td>13. Celeste</td>\n",
       "    </tr>\n",
       "    <tr>\n",
       "      <th>13</th>\n",
       "      <td>12. Fortnite Battle Royale</td>\n",
       "    </tr>\n",
       "    <tr>\n",
       "      <th>14</th>\n",
       "      <td>11. League of Legends</td>\n",
       "    </tr>\n",
       "    <tr>\n",
       "      <th>15</th>\n",
       "      <td>10. Dota 2</td>\n",
       "    </tr>\n",
       "    <tr>\n",
       "      <th>16</th>\n",
       "      <td>9. Warframe</td>\n",
       "    </tr>\n",
       "    <tr>\n",
       "      <th>17</th>\n",
       "      <td>8. Dead Cells</td>\n",
       "    </tr>\n",
       "    <tr>\n",
       "      <th>18</th>\n",
       "      <td>7. Monster Hunter: World</td>\n",
       "    </tr>\n",
       "    <tr>\n",
       "      <th>19</th>\n",
       "      <td>6. Apex Legends</td>\n",
       "    </tr>\n",
       "    <tr>\n",
       "      <th>20</th>\n",
       "      <td>5. Divinity: Original Sin 2 - Definitive Edition</td>\n",
       "    </tr>\n",
       "    <tr>\n",
       "      <th>21</th>\n",
       "      <td>4. Minecraft</td>\n",
       "    </tr>\n",
       "    <tr>\n",
       "      <th>22</th>\n",
       "      <td>3. Grand Theft Auto V</td>\n",
       "    </tr>\n",
       "    <tr>\n",
       "      <th>23</th>\n",
       "      <td>2. The Witcher 3: Wild Hunt</td>\n",
       "    </tr>\n",
       "    <tr>\n",
       "      <th>24</th>\n",
       "      <td>1. Portal 2</td>\n",
       "    </tr>\n",
       "    <tr>\n",
       "      <th>25</th>\n",
       "      <td>[Dota 2]</td>\n",
       "    </tr>\n",
       "  </tbody>\n",
       "</table>\n",
       "</div>"
      ],
      "text/plain": [
       "                                               Games\n",
       "0               25. Counter-Strike: Global Offensive\n",
       "1                                 24. Slay The Spire\n",
       "2                        23. Return of the Obra Dinn\n",
       "3                                      22. Undertale\n",
       "4                         21. FTL: Faster Than Light\n",
       "5                                  20. Hollow Knight\n",
       "6                                 19. Stardew Valley\n",
       "7                       18. Assassin’s Creed Odyssey\n",
       "8                    17. Sid Meier's Civilization VI\n",
       "9                                      16. Overwatch\n",
       "10                                        15. XCOM 2\n",
       "11                               14. Resident Evil 2\n",
       "12                                       13. Celeste\n",
       "13                        12. Fortnite Battle Royale\n",
       "14                             11. League of Legends\n",
       "15                                        10. Dota 2\n",
       "16                                       9. Warframe\n",
       "17                                     8. Dead Cells\n",
       "18                          7. Monster Hunter: World\n",
       "19                                   6. Apex Legends\n",
       "20  5. Divinity: Original Sin 2 - Definitive Edition\n",
       "21                                      4. Minecraft\n",
       "22                             3. Grand Theft Auto V\n",
       "23                       2. The Witcher 3: Wild Hunt\n",
       "24                                       1. Portal 2\n",
       "25                                          [Dota 2]"
      ]
     },
     "execution_count": 33,
     "metadata": {},
     "output_type": "execute_result"
    }
   ],
   "source": [
    "games"
   ]
  },
  {
   "cell_type": "code",
   "execution_count": 34,
   "id": "345b1904",
   "metadata": {},
   "outputs": [],
   "source": [
    "games.to_csv(\"VAC_Assignment.csv\")"
   ]
  },
  {
   "cell_type": "code",
   "execution_count": null,
   "id": "9a85404b",
   "metadata": {},
   "outputs": [],
   "source": []
  },
  {
   "cell_type": "code",
   "execution_count": null,
   "id": "00592203",
   "metadata": {},
   "outputs": [],
   "source": []
  }
 ],
 "metadata": {
  "kernelspec": {
   "display_name": "Python 3 (ipykernel)",
   "language": "python",
   "name": "python3"
  },
  "language_info": {
   "codemirror_mode": {
    "name": "ipython",
    "version": 3
   },
   "file_extension": ".py",
   "mimetype": "text/x-python",
   "name": "python",
   "nbconvert_exporter": "python",
   "pygments_lexer": "ipython3",
   "version": "3.9.7"
  }
 },
 "nbformat": 4,
 "nbformat_minor": 5
}
